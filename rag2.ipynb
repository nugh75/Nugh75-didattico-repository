{
 "cells": [
  {
   "cell_type": "code",
   "execution_count": null,
   "metadata": {},
   "outputs": [],
   "source": [
    "#librerie necessarie\n",
    "\n",
    "import os\n",
    "from langchain_openai import ChatOpenAI\n",
    "from langchain_core.prompts import ChatPromptTemplate\n",
    "from langchain_core.output_parsers import StrOutputParser\n",
    "from langchain.document_loaders import PyPDFLoader\n",
    "from dotenv import load_dotenv\n",
    "from langchain_core.runnables import Runnable, RunnablePassthrough, RunnableParallel, RunnableLambda\n",
    "from IPython.display import JSON\n",
    "import json\n",
    "from unstructured_client import UnstructuredClient\n",
    "from unstructured_client.models import shared\n",
    "from unstructured_client.models.errors import SDKError\n",
    "from unstructured.partition.html import partition_html\n",
    "from unstructured.partition.pdf import partition_pdf\n",
    "from unstructured.staging.base import dict_to_elements, elements_to_json\n"
   ]
  },
  {
   "cell_type": "code",
   "execution_count": null,
   "metadata": {},
   "outputs": [],
   "source": [
    "\n",
    "# Carica le variabili di ambiente dal file .env\n",
    "load_dotenv()\n",
    "\n",
    "# Ora puoi accedere alle variabili di ambiente\n",
    "openai_api_key = os.getenv(\"OPENAI_API_KEY\")"
   ]
  },
  {
   "cell_type": "code",
   "execution_count": null,
   "metadata": {},
   "outputs": [],
   "source": [
    "#llm studio\n",
    "\n",
    "model = ChatOpenAI(\n",
    "    base_url = \"http://172.17.0.1:1234/v1\",\n",
    "    temperature = 0,\n",
    "    api_key = \"not-needed\",\n",
    "    model_name =\"llama3\",\n",
    ")"
   ]
  },
  {
   "cell_type": "code",
   "execution_count": null,
   "metadata": {},
   "outputs": [],
   "source": [
    "#ollama\n",
    "\n",
    "model = ChatOpenAI(\n",
    "    base_url = \"http://localhost:11434/v1\",\n",
    "    temperature = 0,\n",
    "    api_key = \"not-need\",\n",
    "    model_name =\"llama3\",\n",
    ")"
   ]
  },
  {
   "cell_type": "code",
   "execution_count": null,
   "metadata": {},
   "outputs": [],
   "source": [
    "#openai\n",
    "\n",
    "model = ChatOpenAI(\n",
    "    emperature = 0,\n",
    "     model_name =\"gpt-4o-mini\",\n",
    ")"
   ]
  },
  {
   "cell_type": "code",
   "execution_count": null,
   "metadata": {},
   "outputs": [],
   "source": [
    "pdfd=\"/home/nugh75/git-repository/env1/Algorithm_of_Thoughts-_Enhancing_Exploration_of_Ideas_in_Large_Language_Models.pdf\""
   ]
  },
  {
   "cell_type": "code",
   "execution_count": null,
   "metadata": {},
   "outputs": [],
   "source": [
    "#Caricamento file da cartella\n",
    "\n",
    "#percorso della cartella contenente i PDF\n",
    "folder_path = 'pdfs'\n",
    "\n",
    "# Lista per memorizzare tutti i documenti caricati\n",
    "all_documents = []\n",
    "\n",
    "# Iterare su tutti i file nella cartella\n",
    "for filename in os.listdir(folder_path):\n",
    "    if filename.endswith(\".pdf\"):\n",
    "        pdf_path = os.path.join(folder_path, filename)\n",
    "        loader = PyPDFLoader(file_path=pdf_path)\n",
    "        documents = loader.load()\n",
    "        all_documents.extend(documents)"
   ]
  },
  {
   "cell_type": "code",
   "execution_count": null,
   "metadata": {},
   "outputs": [],
   "source": [
    "len(all_documents)"
   ]
  },
  {
   "cell_type": "code",
   "execution_count": null,
   "metadata": {},
   "outputs": [],
   "source": [
    "print(all_documents)"
   ]
  },
  {
   "cell_type": "code",
   "execution_count": null,
   "metadata": {},
   "outputs": [],
   "source": [
    "print(all_documents[0])"
   ]
  },
  {
   "cell_type": "code",
   "execution_count": null,
   "metadata": {},
   "outputs": [],
   "source": [
    "all_documents[16].metadata"
   ]
  },
  {
   "cell_type": "code",
   "execution_count": null,
   "metadata": {},
   "outputs": [],
   "source": [
    "len(all_documents[0].page_content)"
   ]
  },
  {
   "cell_type": "code",
   "execution_count": null,
   "metadata": {},
   "outputs": [],
   "source": [
    "# Stampare i nomi dei file PDF caricati\n",
    "print(\"PDF caricati:\")\n",
    "for pdf in all_documents:\n",
    "    print(pdf)"
   ]
  },
  {
   "cell_type": "code",
   "execution_count": null,
   "metadata": {},
   "outputs": [],
   "source": [
    "print(all_documents[0].page_content[0:1000])"
   ]
  },
  {
   "cell_type": "code",
   "execution_count": null,
   "metadata": {},
   "outputs": [],
   "source": [
    "all_documents=testo"
   ]
  },
  {
   "cell_type": "code",
   "execution_count": null,
   "metadata": {},
   "outputs": [],
   "source": [
    "# Assumi che pdfd sia già definita e carica i documenti una volta\n",
    "\n",
    "# Carica il PDF una volta\n",
    "loader = PyPDFLoader(pdfd)\n",
    "documents = loader.load()\n",
    "\n",
    "# Assicurati che ogni documento abbia l'attributo 'page_content'\n",
    "for doc in documents:\n",
    "    print(doc.page_content)\n",
    "\n",
    "# Funzione per formattare i documenti\n",
    "def format_documents(documents):\n",
    "    return \"\\n\\n\".join(doc.page_content for doc in documents)"
   ]
  },
  {
   "cell_type": "code",
   "execution_count": null,
   "metadata": {},
   "outputs": [],
   "source": [
    "from langchain_text_splitters import RecursiveCharacterTextSplitter\n",
    "text_splitter = RecursiveCharacterTextSplitter(\n",
    "    chunk_size =500,\n",
    "    chunk_overlap=200\n",
    ")\n",
    "splits =text_splitter.split_documents(documents)\n",
    "for sp in splits:\n",
    "    if (len(sp.page_content) <100):\n",
    "        splits.remove(sp)"
   ]
  },
  {
   "cell_type": "code",
   "execution_count": null,
   "metadata": {},
   "outputs": [],
   "source": [
    "print (\"Numero di chunks:\",len(splits))"
   ]
  },
  {
   "cell_type": "code",
   "execution_count": null,
   "metadata": {},
   "outputs": [],
   "source": [
    "print(\"Metadata :\", splits[0].metadata)\n",
    "print(\"Dimenzione del chunk:\", len(splits[1].page_content), \"caratteri\")\n",
    "print(\"Contenuto del chunk: \\n\" )\n",
    "print(splits[1].page_content)"
   ]
  },
  {
   "cell_type": "code",
   "execution_count": null,
   "metadata": {},
   "outputs": [],
   "source": [
    "#Select Embeddings model questo funziona\n",
    "\n",
    "from langchain_huggingface import HuggingFaceEmbeddings\n",
    "\n",
    "embeddings = HuggingFaceEmbeddings(model_name=\"sentence-transformers/all-MiniLM-L12-v2\")"
   ]
  },
  {
   "cell_type": "code",
   "execution_count": null,
   "metadata": {},
   "outputs": [],
   "source": [
    "cartella=\"algoritmo3\""
   ]
  },
  {
   "cell_type": "code",
   "execution_count": null,
   "metadata": {},
   "outputs": [],
   "source": [
    "import os\n",
    "from langchain_community.vectorstores import FAISS\n",
    "\n",
    "if os.path.exists(cartella):\n",
    "    #Carica indice FAISS cartella corrente attuale\n",
    "    faiss_index=FAISS.load_local(\n",
    "        cartella,\n",
    "        embeddings,\n",
    "        allow_dangerous_deserialization=True\n",
    "    )\n",
    "else:\n",
    "    #crea indice FAISS dei chunk nella cartella attuale\n",
    "    faiss_index = FAISS.from_documents(\n",
    "        splits,\n",
    "        embeddings\n",
    "    )\n",
    "    faiss_index.save_local(cartella)\n"
   ]
  },
  {
   "cell_type": "code",
   "execution_count": null,
   "metadata": {},
   "outputs": [],
   "source": [
    "retriever = faiss_index.as_retriever(\n",
    "\n",
    "    search_type=\"similarity\",\n",
    "    search_kwargs={\"k\": 4} \n",
    ")"
   ]
  },
  {
   "cell_type": "code",
   "execution_count": null,
   "metadata": {},
   "outputs": [],
   "source": [
    "from langchain import hub\n",
    "prompt =hub.pull(\"rlm/rag-prompt\")"
   ]
  },
  {
   "cell_type": "code",
   "execution_count": null,
   "metadata": {},
   "outputs": [],
   "source": [
    "from langchain_core.prompts import ChatPromptTemplate\n",
    "from langchain_core.output_parsers import StrOutputParser\n",
    "prompt = ChatPromptTemplate.from_template(\"Sei un assistente preciso e attento ; Rispondi a questa domanda in italiano: {question}, considra il seguente contesto {context}.\")"
   ]
  },
  {
   "cell_type": "code",
   "execution_count": null,
   "metadata": {},
   "outputs": [],
   "source": [
    "#def format_documents(documents):\n",
    " #   return \"\\n\\n\".join(doc.page_contente for doc in documents)\n",
    "\n",
    "rag_chain = (\n",
    "    {\n",
    "        \"context\": retriever | format_documents,\n",
    "        \"question\": RunnablePassthrough()\n",
    "        \n",
    "    } \n",
    "    |prompt\n",
    "    |model\n",
    "    |StrOutputParser()\n",
    "    \n",
    "    \n",
    ")"
   ]
  },
  {
   "cell_type": "code",
   "execution_count": null,
   "metadata": {},
   "outputs": [],
   "source": [
    "def query(query):\n",
    "    answer = rag_chain.invoke(query)\n",
    "    return answer\n",
    "\n",
    "def queryStream(query):\n",
    "    for chunk in rag_chain.stream(query):\n",
    "        print(chunk, end=\"\", flush=True)"
   ]
  },
  {
   "cell_type": "code",
   "execution_count": null,
   "metadata": {},
   "outputs": [],
   "source": [
    "query(\"che cosa è un prompt\")"
   ]
  },
  {
   "cell_type": "code",
   "execution_count": null,
   "metadata": {},
   "outputs": [],
   "source": [
    "queryStream(\"Dammi esempi di prompt efficaci\")"
   ]
  }
 ],
 "metadata": {
  "kernelspec": {
   "display_name": "myenv311",
   "language": "python",
   "name": "python3"
  },
  "language_info": {
   "codemirror_mode": {
    "name": "ipython",
    "version": 3
   },
   "file_extension": ".py",
   "mimetype": "text/x-python",
   "name": "python",
   "nbconvert_exporter": "python",
   "pygments_lexer": "ipython3",
   "version": "3.10.12"
  }
 },
 "nbformat": 4,
 "nbformat_minor": 2
}
